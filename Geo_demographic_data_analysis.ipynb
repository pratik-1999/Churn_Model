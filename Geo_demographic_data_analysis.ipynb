{
 "cells": [
  {
   "cell_type": "markdown",
   "metadata": {},
   "source": [
    "## Data Analysis"
   ]
  },
  {
   "cell_type": "code",
   "execution_count": null,
   "metadata": {},
   "outputs": [],
   "source": []
  },
  {
   "cell_type": "code",
   "execution_count": 2,
   "metadata": {},
   "outputs": [],
   "source": [
    "import numpy as np\n",
    "import csv\n",
    "from collections import defaultdict"
   ]
  },
  {
   "cell_type": "code",
   "execution_count": 4,
   "metadata": {},
   "outputs": [],
   "source": [
    "path = './Churn_Modelling.csv'\n",
    "file = open(path, 'r')"
   ]
  },
  {
   "cell_type": "code",
   "execution_count": 5,
   "metadata": {},
   "outputs": [],
   "source": [
    "data = csv.reader(file, delimiter = '\\t')"
   ]
  },
  {
   "cell_type": "code",
   "execution_count": 6,
   "metadata": {},
   "outputs": [],
   "source": [
    "dataset = list(data)\n",
    "\n"
   ]
  },
  {
   "cell_type": "code",
   "execution_count": 7,
   "metadata": {},
   "outputs": [],
   "source": [
    "dataset = [d[0].split(',') for d in dataset]"
   ]
  },
  {
   "cell_type": "code",
   "execution_count": 8,
   "metadata": {},
   "outputs": [
    {
     "data": {
      "text/plain": [
       "['2',\n",
       " '15647311',\n",
       " 'Hill',\n",
       " '608',\n",
       " 'Spain',\n",
       " 'Female',\n",
       " '41',\n",
       " '1',\n",
       " '83807.86',\n",
       " '1',\n",
       " '0',\n",
       " '1',\n",
       " '112542.58',\n",
       " '0']"
      ]
     },
     "execution_count": 8,
     "metadata": {},
     "output_type": "execute_result"
    }
   ],
   "source": [
    "dataset[2]"
   ]
  },
  {
   "cell_type": "code",
   "execution_count": 9,
   "metadata": {},
   "outputs": [],
   "source": [
    "header = dataset[0]\n",
    "dataset = dataset[1:]"
   ]
  },
  {
   "cell_type": "code",
   "execution_count": 8,
   "metadata": {},
   "outputs": [
    {
     "data": {
      "text/plain": [
       "['RowNumber',\n",
       " 'CustomerId',\n",
       " 'Surname',\n",
       " 'CreditScore',\n",
       " 'Geography',\n",
       " 'Gender',\n",
       " 'Age',\n",
       " 'Tenure',\n",
       " 'Balance',\n",
       " 'NumOfProducts',\n",
       " 'HasCrCard',\n",
       " 'IsActiveMember',\n",
       " 'EstimatedSalary',\n",
       " 'Exited']"
      ]
     },
     "execution_count": 8,
     "metadata": {},
     "output_type": "execute_result"
    }
   ],
   "source": [
    "header"
   ]
  },
  {
   "cell_type": "code",
   "execution_count": 10,
   "metadata": {},
   "outputs": [],
   "source": [
    "dat = []\n",
    "for d in dataset:\n",
    "    di = dict(zip(header, d))\n",
    "    di['CustomerId'] = int(d[1])\n",
    "    di['CreditScore'] = int(d[3])\n",
    "    di['Geography'] = d[4]\n",
    "    di['Gender'] = d[5]\n",
    "    di['Age'] = int(d[6])\n",
    "    di['Tenure'] = int(d[7])\n",
    "    di['Balance'] = float(d[8])\n",
    "    di['IsActiveMember'] = int(d[-3])\n",
    "    di['EstimatedSalary'] = float(d[-2])\n",
    "    di['Exited'] = int(d[-1])\n",
    "    di.pop('RowNumber')\n",
    "    di.pop('Surname')\n",
    "    di.pop('NumOfProducts')\n",
    "    di.pop('HasCrCard')\n",
    "    \n",
    "    \n",
    "    dat.append(di)\n",
    "    \n",
    " "
   ]
  },
  {
   "cell_type": "code",
   "execution_count": 12,
   "metadata": {},
   "outputs": [
    {
     "data": {
      "text/plain": [
       "[{'CustomerId': 15634602,\n",
       "  'CreditScore': 619,\n",
       "  'Geography': 'France',\n",
       "  'Gender': 'Female',\n",
       "  'Age': 42,\n",
       "  'Tenure': 2,\n",
       "  'Balance': 0.0,\n",
       "  'IsActiveMember': 1,\n",
       "  'EstimatedSalary': 101348.88,\n",
       "  'Exited': 1},\n",
       " {'CustomerId': 15647311,\n",
       "  'CreditScore': 608,\n",
       "  'Geography': 'Spain',\n",
       "  'Gender': 'Female',\n",
       "  'Age': 41,\n",
       "  'Tenure': 1,\n",
       "  'Balance': 83807.86,\n",
       "  'IsActiveMember': 1,\n",
       "  'EstimatedSalary': 112542.58,\n",
       "  'Exited': 0},\n",
       " {'CustomerId': 15619304,\n",
       "  'CreditScore': 502,\n",
       "  'Geography': 'France',\n",
       "  'Gender': 'Female',\n",
       "  'Age': 42,\n",
       "  'Tenure': 8,\n",
       "  'Balance': 159660.8,\n",
       "  'IsActiveMember': 0,\n",
       "  'EstimatedSalary': 113931.57,\n",
       "  'Exited': 1},\n",
       " {'CustomerId': 15701354,\n",
       "  'CreditScore': 699,\n",
       "  'Geography': 'France',\n",
       "  'Gender': 'Female',\n",
       "  'Age': 39,\n",
       "  'Tenure': 1,\n",
       "  'Balance': 0.0,\n",
       "  'IsActiveMember': 0,\n",
       "  'EstimatedSalary': 93826.63,\n",
       "  'Exited': 0},\n",
       " {'CustomerId': 15737888,\n",
       "  'CreditScore': 850,\n",
       "  'Geography': 'Spain',\n",
       "  'Gender': 'Female',\n",
       "  'Age': 43,\n",
       "  'Tenure': 2,\n",
       "  'Balance': 125510.82,\n",
       "  'IsActiveMember': 1,\n",
       "  'EstimatedSalary': 79084.1,\n",
       "  'Exited': 0}]"
      ]
     },
     "execution_count": 12,
     "metadata": {},
     "output_type": "execute_result"
    }
   ],
   "source": [
    "dat[:5]"
   ]
  },
  {
   "cell_type": "markdown",
   "metadata": {},
   "source": [
    "## Data-Analysis:\n"
   ]
  },
  {
   "cell_type": "markdown",
   "metadata": {},
   "source": [
    "### Trend of Exits per Region"
   ]
  },
  {
   "cell_type": "code",
   "execution_count": 13,
   "metadata": {},
   "outputs": [],
   "source": [
    "ExitperRegion = defaultdict(int)\n",
    "for d in dat:\n",
    "    if d['Exited'] == 1:\n",
    "        ExitperRegion[d['Geography']] += 1"
   ]
  },
  {
   "cell_type": "code",
   "execution_count": 14,
   "metadata": {},
   "outputs": [
    {
     "data": {
      "text/plain": [
       "defaultdict(int, {'France': 810, 'Spain': 413, 'Germany': 814})"
      ]
     },
     "execution_count": 14,
     "metadata": {},
     "output_type": "execute_result"
    }
   ],
   "source": [
    "ExitperRegion"
   ]
  },
  {
   "cell_type": "code",
   "execution_count": 15,
   "metadata": {},
   "outputs": [],
   "source": [
    "import matplotlib.pyplot as plt\n",
    "x = [i for i in ExitperRegion.keys()]\n",
    "y = [ExitperRegion[i] for i in x]"
   ]
  },
  {
   "cell_type": "code",
   "execution_count": 16,
   "metadata": {},
   "outputs": [
    {
     "data": {
      "text/plain": [
       "<BarContainer object of 3 artists>"
      ]
     },
     "execution_count": 16,
     "metadata": {},
     "output_type": "execute_result"
    },
    {
     "data": {
      "image/png": "[encoded data removed]",
      "text/plain": [
       "<Figure size 432x288 with 1 Axes>"
      ]
     },
     "metadata": {
      "needs_background": "light"
     },
     "output_type": "display_data"
    }
   ],
   "source": [
    "plt.gca().set(xlabel = 'Countries', ylabel = 'No of Exits', Title = 'Exits Per Country')\n",
    "plt.ylim(300, 830)\n",
    "plt.bar(x, y, color = 'Orange')"
   ]
  },
  {
   "cell_type": "markdown",
   "metadata": {},
   "source": [
    "### Trend of Exits per Gender :\n",
    "This analysis can be very helpful in deciding whether users of a particular gender are leaving the bank's service more often than the other. "
   ]
  },
  {
   "cell_type": "code",
   "execution_count": 17,
   "metadata": {},
   "outputs": [],
   "source": [
    "ExitbyGender =defaultdict(int)\n",
    "for d in dat:\n",
    "    if d['Exited'] == 1:\n",
    "        ExitbyGender[d['Gender']] += 1"
   ]
  },
  {
   "cell_type": "code",
   "execution_count": 18,
   "metadata": {},
   "outputs": [
    {
     "data": {
      "text/plain": [
       "<BarContainer object of 2 artists>"
      ]
     },
     "execution_count": 18,
     "metadata": {},
     "output_type": "execute_result"
    },
    {
     "data": {
      "image/png": "[encoded data removed]",
      "text/plain": [
       "<Figure size 432x288 with 1 Axes>"
      ]
     },
     "metadata": {
      "needs_background": "light"
     },
     "output_type": "display_data"
    }
   ],
   "source": [
    "x = [i for i in ExitbyGender.keys()]\n",
    "y = [ExitbyGender[i] for i in x]\n",
    "plt.gca().set(xlabel = 'Gender', ylabel = 'No of Exits', Title = 'Exits Per Gender')\n",
    "plt.ylim(800, 1200)\n",
    "plt.bar(x, y, color = 'Navy',align = 'center')"
   ]
  },
  {
   "cell_type": "markdown",
   "metadata": {},
   "source": [
    "### No. of Exits by Active/Non-Active Users"
   ]
  },
  {
   "cell_type": "code",
   "execution_count": 19,
   "metadata": {},
   "outputs": [],
   "source": [
    "ActiveNonActiveExits = defaultdict(int)\n",
    "for d in dat:\n",
    "    if d['Exited'] == 1:\n",
    "        ActiveNonActiveExits[d['IsActiveMember']] += 1"
   ]
  },
  {
   "cell_type": "code",
   "execution_count": 20,
   "metadata": {},
   "outputs": [
    {
     "data": {
      "text/plain": [
       "defaultdict(int, {1: 735, 0: 1302})"
      ]
     },
     "execution_count": 20,
     "metadata": {},
     "output_type": "execute_result"
    }
   ],
   "source": [
    "ActiveNonActiveExits"
   ]
  },
  {
   "cell_type": "code",
   "execution_count": 21,
   "metadata": {},
   "outputs": [
    {
     "data": {
      "text/plain": [
       "<BarContainer object of 2 artists>"
      ]
     },
     "execution_count": 21,
     "metadata": {},
     "output_type": "execute_result"
    },
    {
     "data": {
      "image/png": "[encoded data removed]",
      "text/plain": [
       "<Figure size 432x288 with 1 Axes>"
      ]
     },
     "metadata": {
      "needs_background": "light"
     },
     "output_type": "display_data"
    }
   ],
   "source": [
    "x = [i for i in ActiveNonActiveExits.keys()]\n",
    "y = [ActiveNonActiveExits[i] for i in x]\n",
    "plt.gca().set(xlabel = 'Active or not', ylabel = 'No of Exits', Title = 'Activeness of exiting users')\n",
    "# plt.ylim(800, 1200)\n",
    "plt.xticks(ticks = [1, 0], labels=['Active', 'Non-Active'])\n",
    "plt.bar(x, y, color = 'Teal')"
   ]
  },
  {
   "cell_type": "markdown",
   "metadata": {},
   "source": [
    "### Trend of Exits per Age-group"
   ]
  },
  {
   "cell_type": "code",
   "execution_count": 25,
   "metadata": {},
   "outputs": [],
   "source": [
    "AgeGroupExits = defaultdict(list)\n",
    "for d in dat:\n",
    "    if d['Exited'] == 1:\n",
    "        if d['Age'] in range(20,30):\n",
    "            AgeGroupExits[20].append(d['Age'])\n",
    "        elif d['Age'] in range(30,40):\n",
    "            AgeGroupExits[30].append(d['Age'])\n",
    "        elif d['Age'] in range(40,50):\n",
    "            AgeGroupExits[40].append(d['Age'])\n",
    "        elif d['Age'] in range(50,60):\n",
    "            AgeGroupExits[50].append(d['Age'])\n",
    "        else:            \n",
    "            AgeGroupExits[60].append(d['Age'])"
   ]
  },
  {
   "cell_type": "code",
   "execution_count": 26,
   "metadata": {},
   "outputs": [
    {
     "data": {
      "text/plain": [
       "121"
      ]
     },
     "execution_count": 26,
     "metadata": {},
     "output_type": "execute_result"
    }
   ],
   "source": [
    "len(AgeGroupExits[20])"
   ]
  },
  {
   "cell_type": "code",
   "execution_count": 27,
   "metadata": {},
   "outputs": [
    {
     "data": {
      "text/plain": [
       "<BarContainer object of 5 artists>"
      ]
     },
     "execution_count": 27,
     "metadata": {},
     "output_type": "execute_result"
    },
    {
     "data": {
      "image/png": "[encoded data removed]",
      "text/plain": [
       "<Figure size 432x288 with 1 Axes>"
      ]
     },
     "metadata": {
      "needs_background": "light"
     },
     "output_type": "display_data"
    }
   ],
   "source": [
    "x = [i for i in AgeGroupExits.keys()]\n",
    "y = [len(AgeGroupExits[i]) for i in x]\n",
    "plt.gca().set(xlabel = 'Age-Group', ylabel = 'No of Exits', Title = 'Age of exiting users')\n",
    "# plt.ylim(800, 1200)\n",
    "plt.xticks(ticks = [20,30,40,50,60], labels=['20-30', '30-40', '40-50', '50-60', '60+'])\n",
    "plt.bar(x, y, color = 'Crimson', width = 8.0 )\n"
   ]
  },
  {
   "cell_type": "code",
   "execution_count": 32,
   "metadata": {},
   "outputs": [],
   "source": [
    "AgeExits = []\n",
    "for d in dat:\n",
    "    if d[\"Exited\"] == 1:\n",
    "        AgeExits.append(d['Age']) "
   ]
  },
  {
   "cell_type": "code",
   "execution_count": 39,
   "metadata": {},
   "outputs": [
    {
     "data": {
      "text/plain": [
       "[71, 71, 71, 71, 71, 71, 72, 73, 74, 84]"
      ]
     },
     "execution_count": 39,
     "metadata": {},
     "output_type": "execute_result"
    }
   ],
   "source": [
    "AgeExits.sort()\n",
    "AgeExits[-10:]"
   ]
  },
  {
   "cell_type": "code",
   "execution_count": 62,
   "metadata": {},
   "outputs": [],
   "source": [
    "Age_bins = list(set(AgeExits))\n"
   ]
  },
  {
   "cell_type": "code",
   "execution_count": 61,
   "metadata": {},
   "outputs": [
    {
     "data": {
      "text/plain": [
       "(array([9.81836033e-04, 4.90918017e-04, 9.81836033e-04, 1.47275405e-03,\n",
       "        5.89101620e-03, 2.94550810e-03, 6.87285223e-03, 2.94550810e-03,\n",
       "        6.87285223e-03, 6.38193422e-03, 1.12911144e-02, 1.37457045e-02,\n",
       "        1.17820324e-02, 1.62002946e-02, 1.57093765e-02, 2.16003927e-02,\n",
       "        1.62002946e-02, 2.79823270e-02, 2.60186549e-02, 3.04369170e-02,\n",
       "        3.09278351e-02, 3.53460972e-02, 4.36917035e-02, 3.38733432e-02,\n",
       "        3.78006873e-02, 4.32007855e-02, 3.58370152e-02, 4.27098675e-02,\n",
       "        4.46735395e-02, 3.78006873e-02, 3.92734413e-02, 3.68188513e-02,\n",
       "        3.48551792e-02, 3.24005891e-02, 3.14187531e-02, 1.96367207e-02,\n",
       "        2.50368189e-02, 2.35640648e-02, 2.45459008e-02, 1.86548846e-02,\n",
       "        1.42366225e-02, 1.47275405e-02, 1.57093765e-02, 1.03092784e-02,\n",
       "        1.03092784e-02, 8.83652430e-03, 5.89101620e-03, 3.92734413e-03,\n",
       "        3.43642612e-03, 2.45459008e-03, 2.94550810e-03, 9.81836033e-04,\n",
       "        1.96367207e-03, 3.43642612e-03, 4.90918017e-04, 4.90918017e-04,\n",
       "        9.81836033e-05]),\n",
       " array([18, 19, 20, 21, 22, 23, 24, 25, 26, 27, 28, 29, 30, 31, 32, 33, 34,\n",
       "        35, 36, 37, 38, 39, 40, 41, 42, 43, 44, 45, 46, 47, 48, 49, 50, 51,\n",
       "        52, 53, 54, 55, 56, 57, 58, 59, 60, 61, 62, 63, 64, 65, 66, 67, 68,\n",
       "        69, 70, 71, 72, 73, 74, 84]),\n",
       " <a list of 57 Patch objects>)"
      ]
     },
     "execution_count": 61,
     "metadata": {},
     "output_type": "execute_result"
    },
    {
     "data": {
      "image/png": "[encoded data removed]",
      "text/plain": [
       "<Figure size 432x288 with 1 Axes>"
      ]
     },
     "metadata": {
      "needs_background": "light"
     },
     "output_type": "display_data"
    }
   ],
   "source": [
    "plt.gca().set(xlabel = 'Age', ylabel = 'Probability of Exits', Title = 'Probability Density for Age of exiting users')\n",
    "plt.hist(AgeExits, bins = Age_bins, density = True)"
   ]
  },
  {
   "cell_type": "code",
   "execution_count": null,
   "metadata": {},
   "outputs": [],
   "source": []
  }
 ],
 "metadata": {
  "kernelspec": {
   "display_name": "Python 3",
   "language": "python",
   "name": "python3"
  },
  "language_info": {
   "codemirror_mode": {
    "name": "ipython",
    "version": 3
   },
   "file_extension": ".py",
   "mimetype": "text/x-python",
   "name": "python",
   "nbconvert_exporter": "python",
   "pygments_lexer": "ipython3",
   "version": "3.6.8"
  }
 },
 "nbformat": 4,
 "nbformat_minor": 2
}
